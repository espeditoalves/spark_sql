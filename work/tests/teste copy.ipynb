{
 "cells": [
  {
   "cell_type": "code",
   "execution_count": 1,
   "metadata": {},
   "outputs": [],
   "source": [
    "from pyspark.sql import SparkSession"
   ]
  },
  {
   "cell_type": "code",
   "execution_count": 2,
   "metadata": {},
   "outputs": [
    {
     "ename": "ModuleNotFoundError",
     "evalue": "No module named 'pandas'",
     "output_type": "error",
     "traceback": [
      "\u001b[0;31m---------------------------------------------------------------------------\u001b[0m",
      "\u001b[0;31mModuleNotFoundError\u001b[0m                       Traceback (most recent call last)",
      "Cell \u001b[0;32mIn[2], line 1\u001b[0m\n\u001b[0;32m----> 1\u001b[0m \u001b[38;5;28;01mimport\u001b[39;00m \u001b[38;5;21;01mpandas\u001b[39;00m \u001b[38;5;28;01mas\u001b[39;00m \u001b[38;5;21;01mpd\u001b[39;00m\n",
      "\u001b[0;31mModuleNotFoundError\u001b[0m: No module named 'pandas'"
     ]
    }
   ],
   "source": [
    "import pandas as pd"
   ]
  },
  {
   "cell_type": "code",
   "execution_count": 17,
   "metadata": {},
   "outputs": [],
   "source": [
    "import psycopg2\n",
    "\n",
    "# Parâmetros de conexão\n",
    "dbname = \"mydatabase\"  # Altere conforme necessário\n",
    "user = \"pyspark\"       # Altere conforme necessário\n",
    "password = \"123456\"    # Altere conforme necessário\n",
    "host = \"postgres_db\"   # Nome do serviço no Docker\n",
    "port = \"5432\""
   ]
  },
  {
   "cell_type": "code",
   "execution_count": 18,
   "metadata": {},
   "outputs": [
    {
     "name": "stdout",
     "output_type": "stream",
     "text": [
      "Conexão com PostgreSQL realizada com sucesso!\n",
      "Tabela 'test_table' criada com sucesso!\n"
     ]
    }
   ],
   "source": [
    "# Tenta conectar ao PostgreSQL\n",
    "try:\n",
    "    conn = psycopg2.connect(\n",
    "        dbname=dbname,\n",
    "        user=user,\n",
    "        password=password,\n",
    "        host=host,\n",
    "        port=port\n",
    "    )\n",
    "    print(\"Conexão com PostgreSQL realizada com sucesso!\")\n",
    "\n",
    "    # Cria um cursor para executar comandos SQL\n",
    "    cursor = conn.cursor()\n",
    "\n",
    "    # Cria uma tabela de teste\n",
    "    cursor.execute(\"DROP TABLE IF EXISTS test_table;\")\n",
    "    cursor.execute(\"\"\"\n",
    "        CREATE TABLE test_table (\n",
    "            id SERIAL PRIMARY KEY,\n",
    "            name VARCHAR(50) NOT NULL\n",
    "        );\n",
    "    \"\"\")\n",
    "    conn.commit()  # Confirma as mudanças no banco de dados\n",
    "\n",
    "    # Verifica se a tabela foi criada\n",
    "    cursor.execute(\"SELECT EXISTS (SELECT 1 FROM information_schema.tables WHERE table_name='test_table');\")\n",
    "    exists = cursor.fetchone()[0]\n",
    "\n",
    "    if exists:\n",
    "        print(\"Tabela 'test_table' criada com sucesso!\")\n",
    "    else:\n",
    "        print(\"Tabela 'test_table' não foi criada!\")\n",
    "\n",
    "    # Fecha o cursor e a conexão\n",
    "    cursor.close()\n",
    "    conn.close()\n",
    "\n",
    "except Exception as e:\n",
    "    print(f\"Erro ao conectar ao PostgreSQL: {e}\")\n"
   ]
  }
 ],
 "metadata": {
  "kernelspec": {
   "display_name": "Python (pyspark_sql)",
   "language": "python",
   "name": "spark_sql"
  },
  "language_info": {
   "codemirror_mode": {
    "name": "ipython",
    "version": 3
   },
   "file_extension": ".py",
   "mimetype": "text/x-python",
   "name": "python",
   "nbconvert_exporter": "python",
   "pygments_lexer": "ipython3",
   "version": "3.11.5"
  }
 },
 "nbformat": 4,
 "nbformat_minor": 4
}
