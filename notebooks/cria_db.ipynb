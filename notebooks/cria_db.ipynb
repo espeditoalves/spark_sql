{
 "cells": [
  {
   "cell_type": "code",
   "execution_count": 1,
   "metadata": {},
   "outputs": [
    {
     "name": "stdout",
     "output_type": "stream",
     "text": [
      "Caminho do diretório atual: /home/jovyan/work\n",
      "Python executable: /home/jovyan/.cache/pypoetry/virtualenvs/spark-sql-WFljCIXp-py3.11/bin/python\n"
     ]
    }
   ],
   "source": [
    "import psycopg2\n",
    "import pandas as pd\n",
    "from sqlalchemy import create_engine\n",
    "from pandas import DataFrame\n",
    "\n",
    "\n",
    "import os\n",
    "import sys\n",
    "\n",
    "\n",
    "# Exibir o caminho do diretório atual\n",
    "print(\"Caminho do diretório atual:\", os.getcwd())\n",
    "print(\"Python executable:\", sys.executable)"
   ]
  },
  {
   "cell_type": "code",
   "execution_count": 2,
   "metadata": {},
   "outputs": [],
   "source": [
    "# Parâmetros de conexão\n",
    "user: str = 'pyspark'\n",
    "password: str = '123456'\n",
    "host: str = 'postgres_db' # Nome do serviço no Docker\n",
    "port: str = '5432'\n",
    "dbname: str = 'brasilian_e_commerce'"
   ]
  },
  {
   "cell_type": "code",
   "execution_count": 3,
   "metadata": {},
   "outputs": [],
   "source": [
    "def salvar_dataframe_postgresql(\n",
    "    df: DataFrame, \n",
    "    table_name: str, \n",
    "    user: str = user, \n",
    "    password: str= password, \n",
    "    host: str = host, \n",
    "    port: str = port, \n",
    "    dbname: str = dbname\n",
    ") -> None:\n",
    "    \"\"\"\n",
    "    Salva um DataFrame Pandas em uma tabela do banco de dados PostgreSQL.\n",
    "\n",
    "    Parâmetros:\n",
    "    df (DataFrame): DataFrame a ser salvo.\n",
    "    table_name (str): Nome da tabela no PostgreSQL.\n",
    "    user (str): Usuário do PostgreSQL.\n",
    "    password (str): Senha do PostgreSQL.\n",
    "    host (str): Host onde o PostgreSQL está rodando (ex: 'localhost').\n",
    "    port (str): Porta do PostgreSQL (ex: '5432').\n",
    "    dbname (str): Nome do banco de dados PostgreSQL.\n",
    "\n",
    "    Retorno:\n",
    "    None\n",
    "    \"\"\"\n",
    "    try:\n",
    "        # Criando o engine de conexão\n",
    "        engine = create_engine(f'postgresql+psycopg2://{user}:{password}@{host}:{port}/{dbname}')\n",
    "        \n",
    "        # Salvando o DataFrame no PostgreSQL\n",
    "        df.to_sql(table_name, engine, if_exists='replace', index=False)\n",
    "        print(f\"Dados salvos com sucesso na tabela '{table_name}' no PostgreSQL!\")\n",
    "    \n",
    "    except Exception as e:\n",
    "        print(f\"Erro ao salvar os dados: {e}\")\n"
   ]
  },
  {
   "cell_type": "code",
   "execution_count": 4,
   "metadata": {},
   "outputs": [],
   "source": [
    "olist_customers = pd.read_csv(\"/home/jovyan/work/base/archive/olist_customers_dataset.csv\")\n",
    "olist_order_items = pd.read_csv(\"/home/jovyan/work/base/archive/olist_order_items_dataset.csv\")\n",
    "olist_order_payments = pd.read_csv(\"/home/jovyan/work/base/archive/olist_order_payments_dataset.csv\")\n",
    "olist_order_reviews = pd.read_csv(\"/home/jovyan/work/base/archive/olist_order_reviews_dataset.csv\")\n",
    "olist_orders = pd.read_csv(\"/home/jovyan/work/base/archive/olist_orders_dataset.csv\")\n",
    "olist_products = pd.read_csv(\"/home/jovyan/work/base/archive/olist_products_dataset.csv\")\n",
    "olist_sellers = pd.read_csv(\"/home/jovyan/work/base/archive/olist_sellers_dataset.csv\")\n",
    "pdt_cat_name_trans = pd.read_csv(\"/home/jovyan/work/base/archive/product_category_name_translation.csv\")"
   ]
  },
  {
   "cell_type": "code",
   "execution_count": 5,
   "metadata": {},
   "outputs": [
    {
     "name": "stdout",
     "output_type": "stream",
     "text": [
      "Dados salvos com sucesso na tabela 'olist_customers' no PostgreSQL!\n"
     ]
    }
   ],
   "source": [
    "salvar_dataframe_postgresql(olist_customers, 'olist_customers')"
   ]
  },
  {
   "cell_type": "code",
   "execution_count": 6,
   "metadata": {},
   "outputs": [
    {
     "name": "stdout",
     "output_type": "stream",
     "text": [
      "Dados salvos com sucesso na tabela 'olist_order_items' no PostgreSQL!\n"
     ]
    }
   ],
   "source": [
    "salvar_dataframe_postgresql(olist_order_items, 'olist_order_items')"
   ]
  },
  {
   "cell_type": "code",
   "execution_count": 7,
   "metadata": {},
   "outputs": [
    {
     "name": "stdout",
     "output_type": "stream",
     "text": [
      "Dados salvos com sucesso na tabela 'olist_order_payments' no PostgreSQL!\n"
     ]
    }
   ],
   "source": [
    "salvar_dataframe_postgresql(olist_order_payments, 'olist_order_payments')"
   ]
  },
  {
   "cell_type": "code",
   "execution_count": 8,
   "metadata": {},
   "outputs": [
    {
     "name": "stdout",
     "output_type": "stream",
     "text": [
      "Dados salvos com sucesso na tabela 'olist_order_reviews' no PostgreSQL!\n"
     ]
    }
   ],
   "source": [
    "salvar_dataframe_postgresql(olist_order_reviews, 'olist_order_reviews')"
   ]
  },
  {
   "cell_type": "code",
   "execution_count": 9,
   "metadata": {},
   "outputs": [
    {
     "name": "stdout",
     "output_type": "stream",
     "text": [
      "Dados salvos com sucesso na tabela 'olist_orders' no PostgreSQL!\n"
     ]
    }
   ],
   "source": [
    "salvar_dataframe_postgresql(olist_orders, 'olist_orders')"
   ]
  },
  {
   "cell_type": "code",
   "execution_count": 10,
   "metadata": {},
   "outputs": [
    {
     "name": "stdout",
     "output_type": "stream",
     "text": [
      "Dados salvos com sucesso na tabela 'olist_products' no PostgreSQL!\n"
     ]
    }
   ],
   "source": [
    "salvar_dataframe_postgresql(olist_products, 'olist_products')"
   ]
  },
  {
   "cell_type": "code",
   "execution_count": 11,
   "metadata": {},
   "outputs": [
    {
     "name": "stdout",
     "output_type": "stream",
     "text": [
      "Dados salvos com sucesso na tabela 'olist_sellers' no PostgreSQL!\n"
     ]
    }
   ],
   "source": [
    "salvar_dataframe_postgresql(olist_sellers, 'olist_sellers')"
   ]
  },
  {
   "cell_type": "code",
   "execution_count": 12,
   "metadata": {},
   "outputs": [
    {
     "name": "stdout",
     "output_type": "stream",
     "text": [
      "Dados salvos com sucesso na tabela 'pdt_cat_name_trans' no PostgreSQL!\n"
     ]
    }
   ],
   "source": [
    "salvar_dataframe_postgresql(pdt_cat_name_trans, 'pdt_cat_name_trans')"
   ]
  }
 ],
 "metadata": {
  "kernelspec": {
   "display_name": "Python (pyspark_sql)",
   "language": "python",
   "name": "spark_sql"
  },
  "language_info": {
   "codemirror_mode": {
    "name": "ipython",
    "version": 3
   },
   "file_extension": ".py",
   "mimetype": "text/x-python",
   "name": "python",
   "nbconvert_exporter": "python",
   "pygments_lexer": "ipython3",
   "version": "3.11.5"
  }
 },
 "nbformat": 4,
 "nbformat_minor": 2
}
